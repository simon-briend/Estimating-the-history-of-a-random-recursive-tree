{
 "cells": [
  {
   "cell_type": "markdown",
   "id": "2aabfffc",
   "metadata": {},
   "source": [
    "# Inferring the history of random recursive trees"
   ]
  },
  {
   "cell_type": "code",
   "execution_count": 3,
   "id": "cf6dbf2a",
   "metadata": {},
   "outputs": [],
   "source": [
    "import sys\n",
    "from scipy import sqrt\n",
    "from statistics import variance, mean "
   ]
  },
  {
   "cell_type": "code",
   "execution_count": 4,
   "id": "57ca244f",
   "metadata": {},
   "outputs": [],
   "source": [
    "import numpy as np\n",
    "import matplotlib.pyplot as plt\n",
    "import networkx as nx"
   ]
  },
  {
   "cell_type": "code",
   "execution_count": 5,
   "id": "dc0f4e7f",
   "metadata": {},
   "outputs": [],
   "source": [
    "import scipy.sparse.linalg\n",
    "import scipy.linalg"
   ]
  },
  {
   "cell_type": "markdown",
   "id": "f6ddd090",
   "metadata": {},
   "source": [
    "## Functions to save and load results of experiments"
   ]
  },
  {
   "cell_type": "code",
   "execution_count": 6,
   "id": "06babf7f",
   "metadata": {},
   "outputs": [],
   "source": [
    "import pickle\n",
    " \n",
    "class MyClass():\n",
    "    def __init__(self, param):\n",
    "        self.param = param\n",
    " \n",
    "def save_object(obj,name):\n",
    "    try:\n",
    "        with open(name+\".pickle\", \"wb\") as f:\n",
    "            pickle.dump(obj, f, protocol=pickle.HIGHEST_PROTOCOL)\n",
    "    except Exception as ex:\n",
    "        print(\"Error during pickling object (Possibly unsupported):\", ex)\n",
    "        \n",
    "def load_object(filename):\n",
    "    try:\n",
    "        with open(filename, \"rb\") as f:\n",
    "            return pickle.load(f)\n",
    "    except Exception as ex:\n",
    "        print(\"Error during unpickling object (Possibly unsupported):\", ex)"
   ]
  },
  {
   "cell_type": "markdown",
   "id": "ddfeb4c6",
   "metadata": {},
   "source": [
    "## Sampling of graphs"
   ]
  },
  {
   "cell_type": "markdown",
   "id": "8013c202",
   "metadata": {},
   "source": [
    "Sample the adjacency matrix of URRT and PA trees."
   ]
  },
  {
   "cell_type": "code",
   "execution_count": 7,
   "id": "dd92b495",
   "metadata": {},
   "outputs": [],
   "source": [
    "def URRT(n): # give the adjacency matrix of a URRT\n",
    "    M=np.zeros((n,n))\n",
    "    for i in range(2,n+1):\n",
    "        j=np.random.randint(1,i)\n",
    "        M[j-1,i-1]+=1\n",
    "    return M+np.transpose(M)\n",
    "\n",
    "def URRT_List(n): # gives the adjacency lisy of a tree\n",
    "    L=[{1,2}]\n",
    "    for i in range(3,n+1):\n",
    "        j=np.random.randint(1,i)\n",
    "        L.append({j,i})\n",
    "    return L\n",
    "\n",
    "def PA(n):                       #return the adjacency matrix of a PA tree\n",
    "    M=np.zeros((n,n))\n",
    "    M[0,1]=1     #we start by an edge\n",
    "    connect=[1,2] #list of picked vertices, useful for PA (its like counting degree)\n",
    "    for i in range(3,n+1):\n",
    "        j=np.random.randint(2*(i-2))\n",
    "        connect.append(i)\n",
    "        connect.append(connect[j])\n",
    "        M[connect[j]-1,i-1]+=1\n",
    "    return M+np.transpose(M)"
   ]
  },
  {
   "cell_type": "markdown",
   "id": "78825a8a",
   "metadata": {},
   "source": [
    "Sample an URRT or PA and during the sampling save the descendants of every vertex."
   ]
  },
  {
   "cell_type": "code",
   "execution_count": 8,
   "id": "26e32af6",
   "metadata": {},
   "outputs": [],
   "source": [
    "def URRT_subtree(n):  # give the graph of a URRT and a list of the descendents of each vertex\n",
    "    M=np.zeros((n+1,n+1))\n",
    "    subtree=[[1]]\n",
    "    for i in range(2,n+1):\n",
    "        j=np.random.randint(1,i)\n",
    "        M[j,i]+=1\n",
    "        M[i,j]+=1\n",
    "        subtree.append([i])\n",
    "        subtree[j-1].append(i)\n",
    "        for k in range(1,j-1):\n",
    "            if j in subtree[k]:\n",
    "                subtree[k-1].append(i)\n",
    "    return M,subtree\n",
    "\n",
    "def PA_subtree(n):      # give the graph of a PA and a list of the descendents of each vertex\n",
    "    M=np.zeros((n,n))\n",
    "    M[0,1]=1     #we start by an edge\n",
    "    subtree=[[1,2],[2]]  #list of descendents\n",
    "    connect=[1,2] #list of picked vertices, useful for PA (its like counting degree)\n",
    "    for i in range(3,n+1):\n",
    "        j=np.random.randint(2*(i-2))\n",
    "        connect.append(i)\n",
    "        J=connect[j]\n",
    "        connect.append(J)\n",
    "        M[J-1,i-1]+=1\n",
    "        subtree.append([i])\n",
    "        subtree[J-1].append(i)\n",
    "        for k in range(1,J-1):\n",
    "            if J in subtree[k]:\n",
    "                subtree[k-1].append(i)\n",
    "    return M+np.transpose(M),subtree"
   ]
  },
  {
   "cell_type": "markdown",
   "id": "364a28be",
   "metadata": {},
   "source": [
    "Sample an URRT or PA tree and save the degree of each node during the sample."
   ]
  },
  {
   "cell_type": "code",
   "execution_count": 9,
   "id": "18f98ff8",
   "metadata": {},
   "outputs": [],
   "source": [
    "def URRTDegree(n):  #return a URRT and the list of degree\n",
    "    M=np.zeros((n,n))\n",
    "    D=np.ones(n)\n",
    "    D[0]=0\n",
    "    for i in range(2,n+1):\n",
    "        j=np.random.randint(1,i)\n",
    "        M[j-1,i-1]+=1\n",
    "        D[j-1]+=1\n",
    "    return M+np.transpose(M),D\n",
    "\n",
    "def PADegree(n):\n",
    "    M=np.zeros((n,n))\n",
    "    D=[1,1]  #list of degrees\n",
    "    M[0,1]=1     #we start by an edge\n",
    "    connect=[1,2] #list of picked vertices, useful for PA (its like counting degree)\n",
    "    for i in range(3,n+1):\n",
    "        j=np.random.randint(2*(i-2))\n",
    "        connect.append(i)\n",
    "        J=connect[j]\n",
    "        connect.append(J)\n",
    "        M[J-1,i-1]+=1\n",
    "        D.append(1)\n",
    "        D[J-1]+=1\n",
    "    return M+np.transpose(M),D"
   ]
  },
  {
   "cell_type": "markdown",
   "id": "89fab898",
   "metadata": {},
   "source": [
    "## Useful functions"
   ]
  },
  {
   "cell_type": "markdown",
   "id": "449954e4",
   "metadata": {},
   "source": [
    "The next functions are a very inefficient and naive way to compute the Jordan centrality of nodes in a tree."
   ]
  },
  {
   "cell_type": "code",
   "execution_count": 10,
   "id": "8c5eb014",
   "metadata": {},
   "outputs": [],
   "source": [
    "def SizeSubtree(M,u,v):  #u is the root, v one of its neighbour.\n",
    "    n=len(M)\n",
    "    if np.sum(M[v-1])==1: #v is a leaf\n",
    "        return 1\n",
    "    else:\n",
    "        s=1\n",
    "        for k in range(1,n+1):\n",
    "            if M[v-1,k-1]==1:\n",
    "                if k != u: #on parcourt les voisins qui ne sont pas u\n",
    "                    s+=SizeSubtree(M,v,k)\n",
    "        return s\n",
    "\n",
    "\n",
    "\n",
    "def SizeSubtrees(M,u):\n",
    "    n=len(M)\n",
    "    J=[]\n",
    "    for v in range(1,n+1):\n",
    "        if M[u-1,v-1]:\n",
    "            J.append(SizeSubtree(M,u,v))\n",
    "    return J\n",
    "\n",
    "\n",
    "\n",
    "def JordanOneNode(M,u):  # Compute the Jordan centrality of a given node\n",
    "    n=len(M)\n",
    "    J=0\n",
    "    for v in range(1,n+1):\n",
    "        if M[u-1,v-1]:\n",
    "            j=SizeSubtree(M,u,v)\n",
    "            if j>J:\n",
    "                J=j\n",
    "    return J\n",
    "\n",
    "\n",
    "\n",
    "def Jordan(M):  #return a list fo the Jordan centrality of all nodes in the tree.\n",
    "    n=len(M)\n",
    "    J=[]\n",
    "    for v in range(1,n+1):\n",
    "        J.append(JordanOneNode(M,v))\n",
    "    return J"
   ]
  },
  {
   "cell_type": "markdown",
   "id": "3b06ed6c",
   "metadata": {},
   "source": [
    "Then we define two error measures. error2 is the one analyzed in our paper."
   ]
  },
  {
   "cell_type": "code",
   "execution_count": 11,
   "id": "6716814f",
   "metadata": {},
   "outputs": [],
   "source": [
    "def error1(sigma,alpha=1):\n",
    "    s=0\n",
    "    i=1\n",
    "    for order in sigma:\n",
    "        s+=order/(i**alpha)\n",
    "        i+=1\n",
    "    return s\n",
    "\n",
    "def error2(sigma,alpha=1):\n",
    "    s=0\n",
    "    i=1\n",
    "    for order in sigma:\n",
    "        s+=abs(order-i)/(i**alpha)\n",
    "        i+=1\n",
    "    return s"
   ]
  },
  {
   "cell_type": "markdown",
   "id": "6364d707",
   "metadata": {},
   "source": [
    "Then we define our basic ordering procedure."
   ]
  },
  {
   "cell_type": "code",
   "execution_count": 12,
   "id": "dc619c06",
   "metadata": {},
   "outputs": [],
   "source": [
    "def ordering(SubTreeList):    #return the descendant ordering. Deal with equality cases by adding noise.\n",
    "    L=[]\n",
    "    n=len(SubTreeList)\n",
    "    i=0\n",
    "    for SubTree in SubTreeList:   #count number of descendents of each vertex\n",
    "        L.append((-len(SubTree)-np.random.uniform(-0.5,0.5),i))  #add noise to deal with equality\n",
    "        i+=1\n",
    "    L.sort()\n",
    "    sorted_L,permutation = zip(*L)\n",
    "    ordering=[]\n",
    "    for i in range(n):                         #go from permutation to ordering\n",
    "        ordering.append(permutation.index(i)+1)\n",
    "    return ordering"
   ]
  },
  {
   "cell_type": "markdown",
   "id": "3565595f",
   "metadata": {},
   "source": []
  },
  {
   "cell_type": "code",
   "execution_count": 13,
   "id": "4167f40b",
   "metadata": {},
   "outputs": [],
   "source": [
    "def JordanOrdering(M):  #Return the Jordan ordering. This function is highly inefficient.\n",
    "    J=Jordan(M)\n",
    "    n=len(J)\n",
    "    i=0\n",
    "    L=[]\n",
    "    for j in J:\n",
    "        L.append((j+np.random.uniform(-0.5,0.5),i)) #add noise\n",
    "        i+=1\n",
    "    L.sort()\n",
    "    sorted_L,permutation = zip(*L)\n",
    "    ordering=[]\n",
    "    for i in range(n):                         #go from permutation to ordering\n",
    "        ordering.append(permutation.index(i)+1)\n",
    "    return ordering"
   ]
  },
  {
   "cell_type": "markdown",
   "id": "03043ac8",
   "metadata": {},
   "source": [
    "The minimax lower bound on the error2 in the URRT and theoretical upper bounds for error2 in the URRT and PA."
   ]
  },
  {
   "cell_type": "code",
   "execution_count": 14,
   "id": "f79461cb",
   "metadata": {},
   "outputs": [],
   "source": [
    "def Ralpha(n,alpha):      # the minimax lower bound on the error R2\n",
    "    return (n**(2-alpha))/65\n",
    "    \n",
    "def TheoreticalUpperBound(n,alpha):       \n",
    "    if alpha==1:\n",
    "        return (1170)*Ralpha(n,alpha)\n",
    "    else:\n",
    "        return Ralpha(n,alpha)*65*(1/(2-alpha)+3/(2-alpha)**2+1/(2-alpha)**3)\n",
    "    \n",
    "    \n",
    "def TheoreticalUpperBoundPA(n,alpha):\n",
    "    return ((1/(2-alpha))+1/((alpha-1.25)*(alpha-2)))*n**(2-alpha)"
   ]
  },
  {
   "cell_type": "markdown",
   "id": "dad6a2a8",
   "metadata": {},
   "source": [
    "Other ordering methods:"
   ]
  },
  {
   "cell_type": "code",
   "execution_count": 15,
   "id": "3f601d4c",
   "metadata": {},
   "outputs": [],
   "source": [
    "def SpectralOrdering(M):\n",
    "    n=len(M)\n",
    "    L=np.diag(np.matmul(M,np.ones((n,1)))[:,0])-M   #compute laplacian\n",
    "    value,vector=scipy.sparse.linalg.eigsh(L, 2, which='SM')    #compute 2 smallest eigenvalues and eigen vectors\n",
    "    X= list(vector[:,1]) #keep only second smallest eigen vector\n",
    "    L = [ (X[i],i) for i in range(len(X)) ]  #trick to find the permutation that orders them\n",
    "    L.sort()\n",
    "    sorted_L,permutation = zip(*L)\n",
    "    ordering=[]\n",
    "    for i in range(n):                         #go from permutation to ordering\n",
    "        ordering.append(permutation.index(i))\n",
    "    return ordering\n",
    "\n",
    "def DegreeOrdering(D):\n",
    "    n=len(D)\n",
    "    L=[]\n",
    "    i=0\n",
    "    for d in D:\n",
    "        L.append((-d-np.random.uniform(-0.5,0.5),i))  #we add some noise to deal with degree equalities\n",
    "        i+=1\n",
    "    L.sort()\n",
    "    sorted_L,permutation = zip(*L)\n",
    "    ordering=[]\n",
    "    for i in range(n):                         #go from degree to ordering\n",
    "        ordering.append(permutation.index(i))\n",
    "    return ordering"
   ]
  },
  {
   "cell_type": "markdown",
   "id": "3cfddf60",
   "metadata": {},
   "source": [
    "The improved degree method ordering, taken from \"Network Archaeology: Uncovering Ancient Networks from Present-day Interactions\", section 2.3."
   ]
  },
  {
   "cell_type": "code",
   "execution_count": 16,
   "id": "12c43e0f",
   "metadata": {},
   "outputs": [],
   "source": [
    "def SurvivorSum(L,survivors):  #a function to compute the sum of only some index of a list\n",
    "    sum=0\n",
    "    for s in survivors:\n",
    "        sum+=L[s]\n",
    "    return sum\n",
    "\n",
    "\n",
    "def criterium(j,M,N):  #N is number of vertices left in graph, M can be bigger and have lines and columns set to 0\n",
    "    product=1\n",
    "    d=len(M)\n",
    "    p=1\n",
    "    for i in range(d):\n",
    "        if M[j,i]==1:   #if i is a neighbour of j\n",
    "            p*=(sum(M[i])-1)/N  #the minus 1 because it is the degree of i with j removed from the graph\n",
    "        else:\n",
    "            p*=1-sum(M[i])/N\n",
    "    return p\n",
    "\n",
    "def criteriumBetter(j,M,survivor,N):  #criterium for the matrix after removing everyone except survivors\n",
    "    product=1\n",
    "    d=len(M)\n",
    "    p=1\n",
    "    for i in survivor:\n",
    "        if M[j,i]==1:   #if i is a neighbour of j\n",
    "            p*=(sum(M[i])-1)/N  #the minus 1 because it is the degree of i with j removed from the graph\n",
    "        else:\n",
    "            p*=1-sum(M[i])/N\n",
    "    return p\n",
    "\n",
    "\n",
    "def ImprovedPeeling(M):\n",
    "    n=len(M)\n",
    "    N=n\n",
    "    Survivors=[k for k in range(n)] #vertices not yet ordered\n",
    "    sigmainverse=[]\n",
    "    for i in range(n-2):  #each loop we order one new vertex, until only one edge left\n",
    "        L=[]             #list of leaves at this step\n",
    "        for k in Survivors:\n",
    "            if SurvivorSum(M[k],Survivors)==1:   #meaning k is a leaf at this step\n",
    "                L.append(k)\n",
    "        P=0\n",
    "        J=L[0]\n",
    "        for j in L: #for leaves, compute which one is most likely the last\n",
    "            p=criteriumBetter(j,M,Survivors,N)\n",
    "            if p>P:\n",
    "                J=j\n",
    "                P=p\n",
    "        sigmainverse.append(J+1)\n",
    "        Survivors.remove(J)\n",
    "        N=N-1\n",
    "    for k in Survivors:   #the two last ones can be added in whatever order\n",
    "        sigmainverse.append(k+1)\n",
    "    return sigmainverse[::-1]\n",
    "\n"
   ]
  },
  {
   "cell_type": "markdown",
   "id": "0e2dac8f",
   "metadata": {},
   "source": [
    "## Plots of the error2 of the descendant ordering"
   ]
  },
  {
   "cell_type": "markdown",
   "id": "57141c84",
   "metadata": {},
   "source": [
    "URRT case:"
   ]
  },
  {
   "cell_type": "code",
   "execution_count": 17,
   "id": "1228efc1",
   "metadata": {},
   "outputs": [],
   "source": [
    "alpha=1 # parameter of the error\n",
    "alphaB=1.5  #second alpha in thesimulation\n",
    "n0=50 #initial size of the graph\n",
    "n=201 #max size of the graph\n",
    "#step=100 #do not look at all sizes, but go with big steps\n",
    "k=2 #number of experience for each size"
   ]
  },
  {
   "cell_type": "code",
   "execution_count": 63,
   "id": "fa22951e",
   "metadata": {},
   "outputs": [],
   "source": [
    "R2=[]   # list of estimated error2\n",
    "X=[]     # list of sizes of graph that we tried\n",
    "\n",
    "R2B=[]   # list of estimated error2 for alphaB\n",
    "XB=[]     # list of sizes of graph that we tried for alphaB\n",
    "\n",
    "i=n0\n",
    "while i <n: #exponential steps\n",
    "#for i in range(n0,n,step): #linear steps\n",
    "    X.append(i)\n",
    "    r2=[]\n",
    "    r2B=[]\n",
    "    for j in range(k):     # we do k experiments at each size\n",
    "        M,ST=URRT_subtree(i)   # we sample a URRT and the list of descendents of each vertex\n",
    "        Ordering=ordering(ST)\n",
    "        r2.append(error2(Ordering,alpha))\n",
    "        r2B.append(error2(Ordering,alphaB))\n",
    "    R2.append(r2)\n",
    "    R2B.append(r2B)\n",
    "    i=int(2*i) # update i\n",
    "\n",
    "save_object([R2,R2B,X],\"URRT_error\")"
   ]
  },
  {
   "cell_type": "code",
   "execution_count": 18,
   "id": "5b5dcfe4",
   "metadata": {},
   "outputs": [
    {
     "data": {
      "image/png": "[encoded data removed]",
      "text/plain": [
       "<Figure size 864x288 with 2 Axes>"
      ]
     },
     "metadata": {
      "needs_background": "light"
     },
     "output_type": "display_data"
    }
   ],
   "source": [
    "DATA=load_object(\"URRT_error.pickle\")\n",
    "R2,R2B,X=DATA[0],DATA[1],DATA[2]\n",
    "\n",
    "fig = plt.figure(figsize=(12, 4))\n",
    "\n",
    "positions=X\n",
    "\n",
    "w = 0.2\n",
    "width = lambda p, w: 10**(np.log10(p)+w/2.)-10**(np.log10(p)-w/2.)\n",
    "\n",
    "\n",
    "ax = plt.subplot(1, 2, 1)\n",
    "\n",
    "ax.boxplot(R2,positions=positions, widths=width(positions,w),sym='',medianprops=dict(color=\"black\"))\n",
    "ax.plot(X,[TheoreticalUpperBound(x,alpha) for x in X],label=\"theoretical upper bound\")\n",
    "#plt.xticks(X[:3])\n",
    "if alpha>1:\n",
    "    plt.plot(X,(1/65)*np.array(X)**(2-alpha),label=\"theoretical lower bound\")\n",
    "else:\n",
    "    plt.plot(X,(1/65)*np.array(X)**(2-alpha),label=\"theoretical lower bound\")\n",
    "ax.set_yscale('log')\n",
    "ax.set_xscale('log')\n",
    "\n",
    "plt.legend()\n",
    "plt.xticks(ticks=X,labels=X)\n",
    "plt.xlabel('tree size')\n",
    "plt.ylabel('error')\n",
    "\n",
    "\n",
    "\n",
    "\n",
    "\n",
    "\n",
    "ax = plt.subplot(1, 2, 2)\n",
    "\n",
    "ax.boxplot(R2B,positions=positions, widths=width(positions,w), sym='',medianprops=dict(color=\"black\"))\n",
    "plt.plot(X,[TheoreticalUpperBound(x,alphaB) for x in X],label=\"theoretical upper bound\")\n",
    "if alphaB>1:\n",
    "    plt.plot(X,(1/65)*np.array(X)**(2-alphaB),label=\"theoretical lower bound\")\n",
    "else:\n",
    "    plt.plot(X,(1/65)*np.array(X)**(2-alphaB),label=\"theoretical lower bound\")\n",
    "ax.set_yscale('log')\n",
    "ax.set_xscale('log')\n",
    "\n",
    "plt.legend()\n",
    "plt.xticks(ticks=X,labels=X)\n",
    "plt.xlabel('tree size')\n",
    "plt.ylabel('error')\n",
    "\n",
    "\n",
    "plt.show()"
   ]
  },
  {
   "cell_type": "markdown",
   "id": "f7e4d0ca",
   "metadata": {},
   "source": [
    "PA case:"
   ]
  },
  {
   "cell_type": "code",
   "execution_count": 19,
   "id": "413cdb8a",
   "metadata": {},
   "outputs": [],
   "source": [
    "alpha=1 # parameter of the error\n",
    "alphaB=1.2 #second alpha in the simulation\n",
    "n0=500 #initial size of the graph\n",
    "n=1200 #max size of the graph\n",
    "#step=100 #do not look at all sizes, but go with big steps\n",
    "k=20 #number of experience for each size"
   ]
  },
  {
   "cell_type": "code",
   "execution_count": 30,
   "id": "1a1eed76",
   "metadata": {},
   "outputs": [],
   "source": [
    "R2=[]   # list of estimated error2\n",
    "R2B=[]   # list of estimated error2 for alphaB\n",
    "X=[]     # list of sizes of graph that we tried\n",
    "\n",
    "i=n0\n",
    "while i <n: #exponential steps\n",
    "#for i in range(n0,n,step): #linear steps\n",
    "    X.append(i)\n",
    "    r2=[]\n",
    "    r2B=[]\n",
    "    for j in range(k):     # we do k experiments at each size\n",
    "        M,ST=PA_subtree(i)   # we sample a URRT and the list of descendents of each vertex\n",
    "        Ordering=ordering(ST)\n",
    "        r2.append(error2(Ordering,alpha))\n",
    "        r2B.append(error2(Ordering,alphaB))\n",
    "    R2.append(r2)\n",
    "    R2B.append(r2B)\n",
    "    i=int(1.2*i) # update i\n",
    "    \n",
    "save_object([R2,R2B,X],\"PA_error\")"
   ]
  },
  {
   "cell_type": "code",
   "execution_count": 20,
   "id": "90c932d3",
   "metadata": {},
   "outputs": [
    {
     "data": {
      "image/png": "[encoded data removed]",
      "text/plain": [
       "<Figure size 864x288 with 2 Axes>"
      ]
     },
     "metadata": {
      "needs_background": "light"
     },
     "output_type": "display_data"
    }
   ],
   "source": [
    "DATA=load_object(\"PA_error.pickle\")\n",
    "R2,R2B,X=DATA[0],DATA[1],DATA[2]\n",
    "\n",
    "fig = plt.figure(figsize=(12, 4))\n",
    "\n",
    "positions=X\n",
    "\n",
    "w = 0.2\n",
    "width = lambda p, w: 10**(np.log10(p)+w/2.)-10**(np.log10(p)-w/2.)\n",
    "\n",
    "\n",
    "ax = plt.subplot(1, 2, 1)\n",
    "\n",
    "ax.boxplot(R2,positions=positions, widths=width(positions,w),sym='',medianprops=dict(color=\"black\"))\n",
    "ax.plot(X,[TheoreticalUpperBound(x,alpha) for x in X],label=\"theoretical upper bound\")\n",
    "if alpha>1:\n",
    "    plt.plot(X,(1/65)*np.array(X)**(2-alpha),label=\"theoretical lower bound\")\n",
    "else:\n",
    "    plt.plot(X,(1/65)*np.array(X)**(2-alpha),label=\"theoretical lower bound\")\n",
    "ax.set_yscale('log')\n",
    "ax.set_xscale('log')\n",
    "\n",
    "#plt.xticks(ticks=X,labels=X)\n",
    "plt.legend()\n",
    "plt.xticks(ticks=X,labels=X)\n",
    "plt.xlabel('tree size')\n",
    "plt.ylabel('error')\n",
    "\n",
    "\n",
    "\n",
    "\n",
    "\n",
    "\n",
    "ax = plt.subplot(1, 2, 2)\n",
    "\n",
    "ax.boxplot(R2B,positions=positions, widths=width(positions,w),sym='',medianprops=dict(color=\"black\"))\n",
    "plt.plot(X,[TheoreticalUpperBound(x,alphaB) for x in X],label=\"theoretical upper bound\")\n",
    "if alphaB>1:\n",
    "    plt.plot(X,(1/65)*np.array(X)**(2-alphaB),label=\"theoretical lower bound\")\n",
    "else:\n",
    "    plt.plot(X,(1/65)*np.array(X)**(2-alphaB),label=\"theoretical upper bound\")\n",
    "ax.set_yscale('log')\n",
    "ax.set_xscale('log')\n",
    "\n",
    "#plt.xticks(ticks=X,labels=X)\n",
    "plt.legend()\n",
    "plt.xticks(ticks=X,labels=X)\n",
    "plt.xlabel('tree size')\n",
    "plt.ylabel('error')\n",
    "\n",
    "\n",
    "plt.show()"
   ]
  },
  {
   "cell_type": "markdown",
   "id": "47ae73dc",
   "metadata": {},
   "source": [
    "## Comparison of different ordering methods in the URRT case"
   ]
  },
  {
   "cell_type": "code",
   "execution_count": 21,
   "id": "aa5ebdde",
   "metadata": {},
   "outputs": [],
   "source": [
    "alpha=1.5   # parameter of the error\n",
    "n0=62 #initial size of the graph\n",
    "n=500 #max size of the graph\n",
    "step=100 #do not look at all sizes, but go with big steps\n",
    "k=20 #number of experience for each size"
   ]
  },
  {
   "cell_type": "code",
   "execution_count": 44,
   "id": "5563f9f2",
   "metadata": {},
   "outputs": [
    {
     "ename": "KeyboardInterrupt",
     "evalue": "",
     "output_type": "error",
     "traceback": [
      "\u001b[1;31m---------------------------------------------------------------------------\u001b[0m",
      "\u001b[1;31mKeyboardInterrupt\u001b[0m                         Traceback (most recent call last)",
      "\u001b[1;32m~\\AppData\\Local\\Temp/ipykernel_15156/2053121629.py\u001b[0m in \u001b[0;36m<module>\u001b[1;34m\u001b[0m\n\u001b[0;32m     18\u001b[0m         \u001b[0mm\u001b[0m\u001b[1;33m,\u001b[0m\u001b[0mD\u001b[0m\u001b[1;33m=\u001b[0m\u001b[0mURRTDegree\u001b[0m\u001b[1;33m(\u001b[0m\u001b[0mi\u001b[0m\u001b[1;33m)\u001b[0m\u001b[1;33m\u001b[0m\u001b[1;33m\u001b[0m\u001b[0m\n\u001b[0;32m     19\u001b[0m         \u001b[0mr2S\u001b[0m\u001b[1;33m.\u001b[0m\u001b[0mappend\u001b[0m\u001b[1;33m(\u001b[0m\u001b[0merror2\u001b[0m\u001b[1;33m(\u001b[0m\u001b[0mSpectralOrdering\u001b[0m\u001b[1;33m(\u001b[0m\u001b[0mM\u001b[0m\u001b[1;33m)\u001b[0m\u001b[1;33m,\u001b[0m\u001b[0malpha\u001b[0m\u001b[1;33m)\u001b[0m\u001b[1;33m)\u001b[0m\u001b[1;33m\u001b[0m\u001b[1;33m\u001b[0m\u001b[0m\n\u001b[1;32m---> 20\u001b[1;33m         \u001b[0mr2\u001b[0m\u001b[1;33m.\u001b[0m\u001b[0mappend\u001b[0m\u001b[1;33m(\u001b[0m\u001b[0merror2\u001b[0m\u001b[1;33m(\u001b[0m\u001b[0mJordanOrdering\u001b[0m\u001b[1;33m(\u001b[0m\u001b[0mM\u001b[0m\u001b[1;33m)\u001b[0m\u001b[1;33m,\u001b[0m\u001b[0malpha\u001b[0m\u001b[1;33m)\u001b[0m\u001b[1;33m)\u001b[0m\u001b[1;33m\u001b[0m\u001b[1;33m\u001b[0m\u001b[0m\n\u001b[0m\u001b[0;32m     21\u001b[0m         \u001b[0mr2D\u001b[0m\u001b[1;33m.\u001b[0m\u001b[0mappend\u001b[0m\u001b[1;33m(\u001b[0m\u001b[0merror2\u001b[0m\u001b[1;33m(\u001b[0m\u001b[0mDegreeOrdering\u001b[0m\u001b[1;33m(\u001b[0m\u001b[0mD\u001b[0m\u001b[1;33m)\u001b[0m\u001b[1;33m,\u001b[0m\u001b[0malpha\u001b[0m\u001b[1;33m)\u001b[0m\u001b[1;33m)\u001b[0m\u001b[1;33m\u001b[0m\u001b[1;33m\u001b[0m\u001b[0m\n\u001b[0;32m     22\u001b[0m     \u001b[0mR2S\u001b[0m\u001b[1;33m.\u001b[0m\u001b[0mappend\u001b[0m\u001b[1;33m(\u001b[0m\u001b[0mr2S\u001b[0m\u001b[1;33m)\u001b[0m\u001b[1;33m\u001b[0m\u001b[1;33m\u001b[0m\u001b[0m\n",
      "\u001b[1;32m~\\AppData\\Local\\Temp/ipykernel_15156/1340227247.py\u001b[0m in \u001b[0;36mJordanOrdering\u001b[1;34m(M)\u001b[0m\n\u001b[0;32m      1\u001b[0m \u001b[1;32mdef\u001b[0m \u001b[0mJordanOrdering\u001b[0m\u001b[1;33m(\u001b[0m\u001b[0mM\u001b[0m\u001b[1;33m)\u001b[0m\u001b[1;33m:\u001b[0m\u001b[1;33m\u001b[0m\u001b[1;33m\u001b[0m\u001b[0m\n\u001b[1;32m----> 2\u001b[1;33m     \u001b[0mJ\u001b[0m\u001b[1;33m=\u001b[0m\u001b[0mJordan\u001b[0m\u001b[1;33m(\u001b[0m\u001b[0mM\u001b[0m\u001b[1;33m)\u001b[0m\u001b[1;33m\u001b[0m\u001b[1;33m\u001b[0m\u001b[0m\n\u001b[0m\u001b[0;32m      3\u001b[0m     \u001b[0mn\u001b[0m\u001b[1;33m=\u001b[0m\u001b[0mlen\u001b[0m\u001b[1;33m(\u001b[0m\u001b[0mJ\u001b[0m\u001b[1;33m)\u001b[0m\u001b[1;33m\u001b[0m\u001b[1;33m\u001b[0m\u001b[0m\n\u001b[0;32m      4\u001b[0m     \u001b[0mi\u001b[0m\u001b[1;33m=\u001b[0m\u001b[1;36m0\u001b[0m\u001b[1;33m\u001b[0m\u001b[1;33m\u001b[0m\u001b[0m\n\u001b[0;32m      5\u001b[0m     \u001b[0mL\u001b[0m\u001b[1;33m=\u001b[0m\u001b[1;33m[\u001b[0m\u001b[1;33m]\u001b[0m\u001b[1;33m\u001b[0m\u001b[1;33m\u001b[0m\u001b[0m\n",
      "\u001b[1;32m~\\AppData\\Local\\Temp/ipykernel_15156/2716403243.py\u001b[0m in \u001b[0;36mJordan\u001b[1;34m(M)\u001b[0m\n\u001b[0;32m     40\u001b[0m     \u001b[0mJ\u001b[0m\u001b[1;33m=\u001b[0m\u001b[1;33m[\u001b[0m\u001b[1;33m]\u001b[0m\u001b[1;33m\u001b[0m\u001b[1;33m\u001b[0m\u001b[0m\n\u001b[0;32m     41\u001b[0m     \u001b[1;32mfor\u001b[0m \u001b[0mv\u001b[0m \u001b[1;32min\u001b[0m \u001b[0mrange\u001b[0m\u001b[1;33m(\u001b[0m\u001b[1;36m1\u001b[0m\u001b[1;33m,\u001b[0m\u001b[0mn\u001b[0m\u001b[1;33m+\u001b[0m\u001b[1;36m1\u001b[0m\u001b[1;33m)\u001b[0m\u001b[1;33m:\u001b[0m\u001b[1;33m\u001b[0m\u001b[1;33m\u001b[0m\u001b[0m\n\u001b[1;32m---> 42\u001b[1;33m         \u001b[0mJ\u001b[0m\u001b[1;33m.\u001b[0m\u001b[0mappend\u001b[0m\u001b[1;33m(\u001b[0m\u001b[0mJordanOneNode\u001b[0m\u001b[1;33m(\u001b[0m\u001b[0mM\u001b[0m\u001b[1;33m,\u001b[0m\u001b[0mv\u001b[0m\u001b[1;33m)\u001b[0m\u001b[1;33m)\u001b[0m\u001b[1;33m\u001b[0m\u001b[1;33m\u001b[0m\u001b[0m\n\u001b[0m\u001b[0;32m     43\u001b[0m     \u001b[1;32mreturn\u001b[0m \u001b[0mJ\u001b[0m\u001b[1;33m\u001b[0m\u001b[1;33m\u001b[0m\u001b[0m\n",
      "\u001b[1;32m~\\AppData\\Local\\Temp/ipykernel_15156/2716403243.py\u001b[0m in \u001b[0;36mJordanOneNode\u001b[1;34m(M, u)\u001b[0m\n\u001b[0;32m     29\u001b[0m     \u001b[1;32mfor\u001b[0m \u001b[0mv\u001b[0m \u001b[1;32min\u001b[0m \u001b[0mrange\u001b[0m\u001b[1;33m(\u001b[0m\u001b[1;36m1\u001b[0m\u001b[1;33m,\u001b[0m\u001b[0mn\u001b[0m\u001b[1;33m+\u001b[0m\u001b[1;36m1\u001b[0m\u001b[1;33m)\u001b[0m\u001b[1;33m:\u001b[0m\u001b[1;33m\u001b[0m\u001b[1;33m\u001b[0m\u001b[0m\n\u001b[0;32m     30\u001b[0m         \u001b[1;32mif\u001b[0m \u001b[0mM\u001b[0m\u001b[1;33m[\u001b[0m\u001b[0mu\u001b[0m\u001b[1;33m-\u001b[0m\u001b[1;36m1\u001b[0m\u001b[1;33m,\u001b[0m\u001b[0mv\u001b[0m\u001b[1;33m-\u001b[0m\u001b[1;36m1\u001b[0m\u001b[1;33m]\u001b[0m\u001b[1;33m:\u001b[0m\u001b[1;33m\u001b[0m\u001b[1;33m\u001b[0m\u001b[0m\n\u001b[1;32m---> 31\u001b[1;33m             \u001b[0mj\u001b[0m\u001b[1;33m=\u001b[0m\u001b[0mSizeSubtree\u001b[0m\u001b[1;33m(\u001b[0m\u001b[0mM\u001b[0m\u001b[1;33m,\u001b[0m\u001b[0mu\u001b[0m\u001b[1;33m,\u001b[0m\u001b[0mv\u001b[0m\u001b[1;33m)\u001b[0m\u001b[1;33m\u001b[0m\u001b[1;33m\u001b[0m\u001b[0m\n\u001b[0m\u001b[0;32m     32\u001b[0m             \u001b[1;32mif\u001b[0m \u001b[0mj\u001b[0m\u001b[1;33m>\u001b[0m\u001b[0mJ\u001b[0m\u001b[1;33m:\u001b[0m\u001b[1;33m\u001b[0m\u001b[1;33m\u001b[0m\u001b[0m\n\u001b[0;32m     33\u001b[0m                 \u001b[0mJ\u001b[0m\u001b[1;33m=\u001b[0m\u001b[0mj\u001b[0m\u001b[1;33m\u001b[0m\u001b[1;33m\u001b[0m\u001b[0m\n",
      "\u001b[1;32m~\\AppData\\Local\\Temp/ipykernel_15156/2716403243.py\u001b[0m in \u001b[0;36mSizeSubtree\u001b[1;34m(M, u, v)\u001b[0m\n\u001b[0;32m      8\u001b[0m             \u001b[1;32mif\u001b[0m \u001b[0mM\u001b[0m\u001b[1;33m[\u001b[0m\u001b[0mv\u001b[0m\u001b[1;33m-\u001b[0m\u001b[1;36m1\u001b[0m\u001b[1;33m,\u001b[0m\u001b[0mk\u001b[0m\u001b[1;33m-\u001b[0m\u001b[1;36m1\u001b[0m\u001b[1;33m]\u001b[0m\u001b[1;33m==\u001b[0m\u001b[1;36m1\u001b[0m\u001b[1;33m:\u001b[0m\u001b[1;33m\u001b[0m\u001b[1;33m\u001b[0m\u001b[0m\n\u001b[0;32m      9\u001b[0m                 \u001b[1;32mif\u001b[0m \u001b[0mk\u001b[0m \u001b[1;33m!=\u001b[0m \u001b[0mu\u001b[0m\u001b[1;33m:\u001b[0m \u001b[1;31m#on parcourt les voisins qui ne sont pas u\u001b[0m\u001b[1;33m\u001b[0m\u001b[1;33m\u001b[0m\u001b[0m\n\u001b[1;32m---> 10\u001b[1;33m                     \u001b[0ms\u001b[0m\u001b[1;33m+=\u001b[0m\u001b[0mSizeSubtree\u001b[0m\u001b[1;33m(\u001b[0m\u001b[0mM\u001b[0m\u001b[1;33m,\u001b[0m\u001b[0mv\u001b[0m\u001b[1;33m,\u001b[0m\u001b[0mk\u001b[0m\u001b[1;33m)\u001b[0m\u001b[1;33m\u001b[0m\u001b[1;33m\u001b[0m\u001b[0m\n\u001b[0m\u001b[0;32m     11\u001b[0m         \u001b[1;32mreturn\u001b[0m \u001b[0ms\u001b[0m\u001b[1;33m\u001b[0m\u001b[1;33m\u001b[0m\u001b[0m\n\u001b[0;32m     12\u001b[0m \u001b[1;33m\u001b[0m\u001b[0m\n",
      "\u001b[1;32m~\\AppData\\Local\\Temp/ipykernel_15156/2716403243.py\u001b[0m in \u001b[0;36mSizeSubtree\u001b[1;34m(M, u, v)\u001b[0m\n\u001b[0;32m      8\u001b[0m             \u001b[1;32mif\u001b[0m \u001b[0mM\u001b[0m\u001b[1;33m[\u001b[0m\u001b[0mv\u001b[0m\u001b[1;33m-\u001b[0m\u001b[1;36m1\u001b[0m\u001b[1;33m,\u001b[0m\u001b[0mk\u001b[0m\u001b[1;33m-\u001b[0m\u001b[1;36m1\u001b[0m\u001b[1;33m]\u001b[0m\u001b[1;33m==\u001b[0m\u001b[1;36m1\u001b[0m\u001b[1;33m:\u001b[0m\u001b[1;33m\u001b[0m\u001b[1;33m\u001b[0m\u001b[0m\n\u001b[0;32m      9\u001b[0m                 \u001b[1;32mif\u001b[0m \u001b[0mk\u001b[0m \u001b[1;33m!=\u001b[0m \u001b[0mu\u001b[0m\u001b[1;33m:\u001b[0m \u001b[1;31m#on parcourt les voisins qui ne sont pas u\u001b[0m\u001b[1;33m\u001b[0m\u001b[1;33m\u001b[0m\u001b[0m\n\u001b[1;32m---> 10\u001b[1;33m                     \u001b[0ms\u001b[0m\u001b[1;33m+=\u001b[0m\u001b[0mSizeSubtree\u001b[0m\u001b[1;33m(\u001b[0m\u001b[0mM\u001b[0m\u001b[1;33m,\u001b[0m\u001b[0mv\u001b[0m\u001b[1;33m,\u001b[0m\u001b[0mk\u001b[0m\u001b[1;33m)\u001b[0m\u001b[1;33m\u001b[0m\u001b[1;33m\u001b[0m\u001b[0m\n\u001b[0m\u001b[0;32m     11\u001b[0m         \u001b[1;32mreturn\u001b[0m \u001b[0ms\u001b[0m\u001b[1;33m\u001b[0m\u001b[1;33m\u001b[0m\u001b[0m\n\u001b[0;32m     12\u001b[0m \u001b[1;33m\u001b[0m\u001b[0m\n",
      "\u001b[1;32m~\\AppData\\Local\\Temp/ipykernel_15156/2716403243.py\u001b[0m in \u001b[0;36mSizeSubtree\u001b[1;34m(M, u, v)\u001b[0m\n\u001b[0;32m      8\u001b[0m             \u001b[1;32mif\u001b[0m \u001b[0mM\u001b[0m\u001b[1;33m[\u001b[0m\u001b[0mv\u001b[0m\u001b[1;33m-\u001b[0m\u001b[1;36m1\u001b[0m\u001b[1;33m,\u001b[0m\u001b[0mk\u001b[0m\u001b[1;33m-\u001b[0m\u001b[1;36m1\u001b[0m\u001b[1;33m]\u001b[0m\u001b[1;33m==\u001b[0m\u001b[1;36m1\u001b[0m\u001b[1;33m:\u001b[0m\u001b[1;33m\u001b[0m\u001b[1;33m\u001b[0m\u001b[0m\n\u001b[0;32m      9\u001b[0m                 \u001b[1;32mif\u001b[0m \u001b[0mk\u001b[0m \u001b[1;33m!=\u001b[0m \u001b[0mu\u001b[0m\u001b[1;33m:\u001b[0m \u001b[1;31m#on parcourt les voisins qui ne sont pas u\u001b[0m\u001b[1;33m\u001b[0m\u001b[1;33m\u001b[0m\u001b[0m\n\u001b[1;32m---> 10\u001b[1;33m                     \u001b[0ms\u001b[0m\u001b[1;33m+=\u001b[0m\u001b[0mSizeSubtree\u001b[0m\u001b[1;33m(\u001b[0m\u001b[0mM\u001b[0m\u001b[1;33m,\u001b[0m\u001b[0mv\u001b[0m\u001b[1;33m,\u001b[0m\u001b[0mk\u001b[0m\u001b[1;33m)\u001b[0m\u001b[1;33m\u001b[0m\u001b[1;33m\u001b[0m\u001b[0m\n\u001b[0m\u001b[0;32m     11\u001b[0m         \u001b[1;32mreturn\u001b[0m \u001b[0ms\u001b[0m\u001b[1;33m\u001b[0m\u001b[1;33m\u001b[0m\u001b[0m\n\u001b[0;32m     12\u001b[0m \u001b[1;33m\u001b[0m\u001b[0m\n",
      "\u001b[1;32m~\\AppData\\Local\\Temp/ipykernel_15156/2716403243.py\u001b[0m in \u001b[0;36mSizeSubtree\u001b[1;34m(M, u, v)\u001b[0m\n\u001b[0;32m      8\u001b[0m             \u001b[1;32mif\u001b[0m \u001b[0mM\u001b[0m\u001b[1;33m[\u001b[0m\u001b[0mv\u001b[0m\u001b[1;33m-\u001b[0m\u001b[1;36m1\u001b[0m\u001b[1;33m,\u001b[0m\u001b[0mk\u001b[0m\u001b[1;33m-\u001b[0m\u001b[1;36m1\u001b[0m\u001b[1;33m]\u001b[0m\u001b[1;33m==\u001b[0m\u001b[1;36m1\u001b[0m\u001b[1;33m:\u001b[0m\u001b[1;33m\u001b[0m\u001b[1;33m\u001b[0m\u001b[0m\n\u001b[0;32m      9\u001b[0m                 \u001b[1;32mif\u001b[0m \u001b[0mk\u001b[0m \u001b[1;33m!=\u001b[0m \u001b[0mu\u001b[0m\u001b[1;33m:\u001b[0m \u001b[1;31m#on parcourt les voisins qui ne sont pas u\u001b[0m\u001b[1;33m\u001b[0m\u001b[1;33m\u001b[0m\u001b[0m\n\u001b[1;32m---> 10\u001b[1;33m                     \u001b[0ms\u001b[0m\u001b[1;33m+=\u001b[0m\u001b[0mSizeSubtree\u001b[0m\u001b[1;33m(\u001b[0m\u001b[0mM\u001b[0m\u001b[1;33m,\u001b[0m\u001b[0mv\u001b[0m\u001b[1;33m,\u001b[0m\u001b[0mk\u001b[0m\u001b[1;33m)\u001b[0m\u001b[1;33m\u001b[0m\u001b[1;33m\u001b[0m\u001b[0m\n\u001b[0m\u001b[0;32m     11\u001b[0m         \u001b[1;32mreturn\u001b[0m \u001b[0ms\u001b[0m\u001b[1;33m\u001b[0m\u001b[1;33m\u001b[0m\u001b[0m\n\u001b[0;32m     12\u001b[0m \u001b[1;33m\u001b[0m\u001b[0m\n",
      "\u001b[1;32m~\\AppData\\Local\\Temp/ipykernel_15156/2716403243.py\u001b[0m in \u001b[0;36mSizeSubtree\u001b[1;34m(M, u, v)\u001b[0m\n\u001b[0;32m      8\u001b[0m             \u001b[1;32mif\u001b[0m \u001b[0mM\u001b[0m\u001b[1;33m[\u001b[0m\u001b[0mv\u001b[0m\u001b[1;33m-\u001b[0m\u001b[1;36m1\u001b[0m\u001b[1;33m,\u001b[0m\u001b[0mk\u001b[0m\u001b[1;33m-\u001b[0m\u001b[1;36m1\u001b[0m\u001b[1;33m]\u001b[0m\u001b[1;33m==\u001b[0m\u001b[1;36m1\u001b[0m\u001b[1;33m:\u001b[0m\u001b[1;33m\u001b[0m\u001b[1;33m\u001b[0m\u001b[0m\n\u001b[0;32m      9\u001b[0m                 \u001b[1;32mif\u001b[0m \u001b[0mk\u001b[0m \u001b[1;33m!=\u001b[0m \u001b[0mu\u001b[0m\u001b[1;33m:\u001b[0m \u001b[1;31m#on parcourt les voisins qui ne sont pas u\u001b[0m\u001b[1;33m\u001b[0m\u001b[1;33m\u001b[0m\u001b[0m\n\u001b[1;32m---> 10\u001b[1;33m                     \u001b[0ms\u001b[0m\u001b[1;33m+=\u001b[0m\u001b[0mSizeSubtree\u001b[0m\u001b[1;33m(\u001b[0m\u001b[0mM\u001b[0m\u001b[1;33m,\u001b[0m\u001b[0mv\u001b[0m\u001b[1;33m,\u001b[0m\u001b[0mk\u001b[0m\u001b[1;33m)\u001b[0m\u001b[1;33m\u001b[0m\u001b[1;33m\u001b[0m\u001b[0m\n\u001b[0m\u001b[0;32m     11\u001b[0m         \u001b[1;32mreturn\u001b[0m \u001b[0ms\u001b[0m\u001b[1;33m\u001b[0m\u001b[1;33m\u001b[0m\u001b[0m\n\u001b[0;32m     12\u001b[0m \u001b[1;33m\u001b[0m\u001b[0m\n",
      "\u001b[1;32m~\\AppData\\Local\\Temp/ipykernel_15156/2716403243.py\u001b[0m in \u001b[0;36mSizeSubtree\u001b[1;34m(M, u, v)\u001b[0m\n\u001b[0;32m      8\u001b[0m             \u001b[1;32mif\u001b[0m \u001b[0mM\u001b[0m\u001b[1;33m[\u001b[0m\u001b[0mv\u001b[0m\u001b[1;33m-\u001b[0m\u001b[1;36m1\u001b[0m\u001b[1;33m,\u001b[0m\u001b[0mk\u001b[0m\u001b[1;33m-\u001b[0m\u001b[1;36m1\u001b[0m\u001b[1;33m]\u001b[0m\u001b[1;33m==\u001b[0m\u001b[1;36m1\u001b[0m\u001b[1;33m:\u001b[0m\u001b[1;33m\u001b[0m\u001b[1;33m\u001b[0m\u001b[0m\n\u001b[0;32m      9\u001b[0m                 \u001b[1;32mif\u001b[0m \u001b[0mk\u001b[0m \u001b[1;33m!=\u001b[0m \u001b[0mu\u001b[0m\u001b[1;33m:\u001b[0m \u001b[1;31m#on parcourt les voisins qui ne sont pas u\u001b[0m\u001b[1;33m\u001b[0m\u001b[1;33m\u001b[0m\u001b[0m\n\u001b[1;32m---> 10\u001b[1;33m                     \u001b[0ms\u001b[0m\u001b[1;33m+=\u001b[0m\u001b[0mSizeSubtree\u001b[0m\u001b[1;33m(\u001b[0m\u001b[0mM\u001b[0m\u001b[1;33m,\u001b[0m\u001b[0mv\u001b[0m\u001b[1;33m,\u001b[0m\u001b[0mk\u001b[0m\u001b[1;33m)\u001b[0m\u001b[1;33m\u001b[0m\u001b[1;33m\u001b[0m\u001b[0m\n\u001b[0m\u001b[0;32m     11\u001b[0m         \u001b[1;32mreturn\u001b[0m \u001b[0ms\u001b[0m\u001b[1;33m\u001b[0m\u001b[1;33m\u001b[0m\u001b[0m\n\u001b[0;32m     12\u001b[0m \u001b[1;33m\u001b[0m\u001b[0m\n",
      "\u001b[1;32m~\\AppData\\Local\\Temp/ipykernel_15156/2716403243.py\u001b[0m in \u001b[0;36mSizeSubtree\u001b[1;34m(M, u, v)\u001b[0m\n\u001b[0;32m      8\u001b[0m             \u001b[1;32mif\u001b[0m \u001b[0mM\u001b[0m\u001b[1;33m[\u001b[0m\u001b[0mv\u001b[0m\u001b[1;33m-\u001b[0m\u001b[1;36m1\u001b[0m\u001b[1;33m,\u001b[0m\u001b[0mk\u001b[0m\u001b[1;33m-\u001b[0m\u001b[1;36m1\u001b[0m\u001b[1;33m]\u001b[0m\u001b[1;33m==\u001b[0m\u001b[1;36m1\u001b[0m\u001b[1;33m:\u001b[0m\u001b[1;33m\u001b[0m\u001b[1;33m\u001b[0m\u001b[0m\n\u001b[0;32m      9\u001b[0m                 \u001b[1;32mif\u001b[0m \u001b[0mk\u001b[0m \u001b[1;33m!=\u001b[0m \u001b[0mu\u001b[0m\u001b[1;33m:\u001b[0m \u001b[1;31m#on parcourt les voisins qui ne sont pas u\u001b[0m\u001b[1;33m\u001b[0m\u001b[1;33m\u001b[0m\u001b[0m\n\u001b[1;32m---> 10\u001b[1;33m                     \u001b[0ms\u001b[0m\u001b[1;33m+=\u001b[0m\u001b[0mSizeSubtree\u001b[0m\u001b[1;33m(\u001b[0m\u001b[0mM\u001b[0m\u001b[1;33m,\u001b[0m\u001b[0mv\u001b[0m\u001b[1;33m,\u001b[0m\u001b[0mk\u001b[0m\u001b[1;33m)\u001b[0m\u001b[1;33m\u001b[0m\u001b[1;33m\u001b[0m\u001b[0m\n\u001b[0m\u001b[0;32m     11\u001b[0m         \u001b[1;32mreturn\u001b[0m \u001b[0ms\u001b[0m\u001b[1;33m\u001b[0m\u001b[1;33m\u001b[0m\u001b[0m\n\u001b[0;32m     12\u001b[0m \u001b[1;33m\u001b[0m\u001b[0m\n",
      "\u001b[1;32m~\\AppData\\Local\\Temp/ipykernel_15156/2716403243.py\u001b[0m in \u001b[0;36mSizeSubtree\u001b[1;34m(M, u, v)\u001b[0m\n\u001b[0;32m      8\u001b[0m             \u001b[1;32mif\u001b[0m \u001b[0mM\u001b[0m\u001b[1;33m[\u001b[0m\u001b[0mv\u001b[0m\u001b[1;33m-\u001b[0m\u001b[1;36m1\u001b[0m\u001b[1;33m,\u001b[0m\u001b[0mk\u001b[0m\u001b[1;33m-\u001b[0m\u001b[1;36m1\u001b[0m\u001b[1;33m]\u001b[0m\u001b[1;33m==\u001b[0m\u001b[1;36m1\u001b[0m\u001b[1;33m:\u001b[0m\u001b[1;33m\u001b[0m\u001b[1;33m\u001b[0m\u001b[0m\n\u001b[0;32m      9\u001b[0m                 \u001b[1;32mif\u001b[0m \u001b[0mk\u001b[0m \u001b[1;33m!=\u001b[0m \u001b[0mu\u001b[0m\u001b[1;33m:\u001b[0m \u001b[1;31m#on parcourt les voisins qui ne sont pas u\u001b[0m\u001b[1;33m\u001b[0m\u001b[1;33m\u001b[0m\u001b[0m\n\u001b[1;32m---> 10\u001b[1;33m                     \u001b[0ms\u001b[0m\u001b[1;33m+=\u001b[0m\u001b[0mSizeSubtree\u001b[0m\u001b[1;33m(\u001b[0m\u001b[0mM\u001b[0m\u001b[1;33m,\u001b[0m\u001b[0mv\u001b[0m\u001b[1;33m,\u001b[0m\u001b[0mk\u001b[0m\u001b[1;33m)\u001b[0m\u001b[1;33m\u001b[0m\u001b[1;33m\u001b[0m\u001b[0m\n\u001b[0m\u001b[0;32m     11\u001b[0m         \u001b[1;32mreturn\u001b[0m \u001b[0ms\u001b[0m\u001b[1;33m\u001b[0m\u001b[1;33m\u001b[0m\u001b[0m\n\u001b[0;32m     12\u001b[0m \u001b[1;33m\u001b[0m\u001b[0m\n",
      "\u001b[1;32m~\\AppData\\Local\\Temp/ipykernel_15156/2716403243.py\u001b[0m in \u001b[0;36mSizeSubtree\u001b[1;34m(M, u, v)\u001b[0m\n\u001b[0;32m      8\u001b[0m             \u001b[1;32mif\u001b[0m \u001b[0mM\u001b[0m\u001b[1;33m[\u001b[0m\u001b[0mv\u001b[0m\u001b[1;33m-\u001b[0m\u001b[1;36m1\u001b[0m\u001b[1;33m,\u001b[0m\u001b[0mk\u001b[0m\u001b[1;33m-\u001b[0m\u001b[1;36m1\u001b[0m\u001b[1;33m]\u001b[0m\u001b[1;33m==\u001b[0m\u001b[1;36m1\u001b[0m\u001b[1;33m:\u001b[0m\u001b[1;33m\u001b[0m\u001b[1;33m\u001b[0m\u001b[0m\n\u001b[0;32m      9\u001b[0m                 \u001b[1;32mif\u001b[0m \u001b[0mk\u001b[0m \u001b[1;33m!=\u001b[0m \u001b[0mu\u001b[0m\u001b[1;33m:\u001b[0m \u001b[1;31m#on parcourt les voisins qui ne sont pas u\u001b[0m\u001b[1;33m\u001b[0m\u001b[1;33m\u001b[0m\u001b[0m\n\u001b[1;32m---> 10\u001b[1;33m                     \u001b[0ms\u001b[0m\u001b[1;33m+=\u001b[0m\u001b[0mSizeSubtree\u001b[0m\u001b[1;33m(\u001b[0m\u001b[0mM\u001b[0m\u001b[1;33m,\u001b[0m\u001b[0mv\u001b[0m\u001b[1;33m,\u001b[0m\u001b[0mk\u001b[0m\u001b[1;33m)\u001b[0m\u001b[1;33m\u001b[0m\u001b[1;33m\u001b[0m\u001b[0m\n\u001b[0m\u001b[0;32m     11\u001b[0m         \u001b[1;32mreturn\u001b[0m \u001b[0ms\u001b[0m\u001b[1;33m\u001b[0m\u001b[1;33m\u001b[0m\u001b[0m\n\u001b[0;32m     12\u001b[0m \u001b[1;33m\u001b[0m\u001b[0m\n",
      "\u001b[1;32m~\\AppData\\Local\\Temp/ipykernel_15156/2716403243.py\u001b[0m in \u001b[0;36mSizeSubtree\u001b[1;34m(M, u, v)\u001b[0m\n\u001b[0;32m      8\u001b[0m             \u001b[1;32mif\u001b[0m \u001b[0mM\u001b[0m\u001b[1;33m[\u001b[0m\u001b[0mv\u001b[0m\u001b[1;33m-\u001b[0m\u001b[1;36m1\u001b[0m\u001b[1;33m,\u001b[0m\u001b[0mk\u001b[0m\u001b[1;33m-\u001b[0m\u001b[1;36m1\u001b[0m\u001b[1;33m]\u001b[0m\u001b[1;33m==\u001b[0m\u001b[1;36m1\u001b[0m\u001b[1;33m:\u001b[0m\u001b[1;33m\u001b[0m\u001b[1;33m\u001b[0m\u001b[0m\n\u001b[0;32m      9\u001b[0m                 \u001b[1;32mif\u001b[0m \u001b[0mk\u001b[0m \u001b[1;33m!=\u001b[0m \u001b[0mu\u001b[0m\u001b[1;33m:\u001b[0m \u001b[1;31m#on parcourt les voisins qui ne sont pas u\u001b[0m\u001b[1;33m\u001b[0m\u001b[1;33m\u001b[0m\u001b[0m\n\u001b[1;32m---> 10\u001b[1;33m                     \u001b[0ms\u001b[0m\u001b[1;33m+=\u001b[0m\u001b[0mSizeSubtree\u001b[0m\u001b[1;33m(\u001b[0m\u001b[0mM\u001b[0m\u001b[1;33m,\u001b[0m\u001b[0mv\u001b[0m\u001b[1;33m,\u001b[0m\u001b[0mk\u001b[0m\u001b[1;33m)\u001b[0m\u001b[1;33m\u001b[0m\u001b[1;33m\u001b[0m\u001b[0m\n\u001b[0m\u001b[0;32m     11\u001b[0m         \u001b[1;32mreturn\u001b[0m \u001b[0ms\u001b[0m\u001b[1;33m\u001b[0m\u001b[1;33m\u001b[0m\u001b[0m\n\u001b[0;32m     12\u001b[0m \u001b[1;33m\u001b[0m\u001b[0m\n",
      "\u001b[1;32m~\\AppData\\Local\\Temp/ipykernel_15156/2716403243.py\u001b[0m in \u001b[0;36mSizeSubtree\u001b[1;34m(M, u, v)\u001b[0m\n\u001b[0;32m      6\u001b[0m         \u001b[0ms\u001b[0m\u001b[1;33m=\u001b[0m\u001b[1;36m1\u001b[0m\u001b[1;33m\u001b[0m\u001b[1;33m\u001b[0m\u001b[0m\n\u001b[0;32m      7\u001b[0m         \u001b[1;32mfor\u001b[0m \u001b[0mk\u001b[0m \u001b[1;32min\u001b[0m \u001b[0mrange\u001b[0m\u001b[1;33m(\u001b[0m\u001b[1;36m1\u001b[0m\u001b[1;33m,\u001b[0m\u001b[0mn\u001b[0m\u001b[1;33m+\u001b[0m\u001b[1;36m1\u001b[0m\u001b[1;33m)\u001b[0m\u001b[1;33m:\u001b[0m\u001b[1;33m\u001b[0m\u001b[1;33m\u001b[0m\u001b[0m\n\u001b[1;32m----> 8\u001b[1;33m             \u001b[1;32mif\u001b[0m \u001b[0mM\u001b[0m\u001b[1;33m[\u001b[0m\u001b[0mv\u001b[0m\u001b[1;33m-\u001b[0m\u001b[1;36m1\u001b[0m\u001b[1;33m,\u001b[0m\u001b[0mk\u001b[0m\u001b[1;33m-\u001b[0m\u001b[1;36m1\u001b[0m\u001b[1;33m]\u001b[0m\u001b[1;33m==\u001b[0m\u001b[1;36m1\u001b[0m\u001b[1;33m:\u001b[0m\u001b[1;33m\u001b[0m\u001b[1;33m\u001b[0m\u001b[0m\n\u001b[0m\u001b[0;32m      9\u001b[0m                 \u001b[1;32mif\u001b[0m \u001b[0mk\u001b[0m \u001b[1;33m!=\u001b[0m \u001b[0mu\u001b[0m\u001b[1;33m:\u001b[0m \u001b[1;31m#on parcourt les voisins qui ne sont pas u\u001b[0m\u001b[1;33m\u001b[0m\u001b[1;33m\u001b[0m\u001b[0m\n\u001b[0;32m     10\u001b[0m                     \u001b[0ms\u001b[0m\u001b[1;33m+=\u001b[0m\u001b[0mSizeSubtree\u001b[0m\u001b[1;33m(\u001b[0m\u001b[0mM\u001b[0m\u001b[1;33m,\u001b[0m\u001b[0mv\u001b[0m\u001b[1;33m,\u001b[0m\u001b[0mk\u001b[0m\u001b[1;33m)\u001b[0m\u001b[1;33m\u001b[0m\u001b[1;33m\u001b[0m\u001b[0m\n",
      "\u001b[1;31mKeyboardInterrupt\u001b[0m: "
     ]
    }
   ],
   "source": [
    "R2S=[]   # list of estimated error2 of spectral ordering\n",
    "\n",
    "R2=[]   # list of estimated error2 for descendent ordering\n",
    "\n",
    "\n",
    "R2D=[]    #list of estimated error2 of degree ordering\n",
    "X=[]     # list of sizes of graph\n",
    "\n",
    "i=n0\n",
    "while i <n: #exponential steps\n",
    "#for i in range(n0,n,step): #linear steps\n",
    "    X.append(i)\n",
    "    r2=[]\n",
    "    r2S=[]\n",
    "    r2D=[]\n",
    "    for j in range(k):     # we do k experiments at each size\n",
    "        M,ST=URRT_subtree(i)   # we sample a URRT\n",
    "        m,D=URRTDegree(i)\n",
    "        r2S.append(error2(SpectralOrdering(M),alpha))\n",
    "        r2.append(error2(JordanOrdering(M),alpha))\n",
    "        r2D.append(error2(DegreeOrdering(D),alpha))\n",
    "    R2S.append(r2S)    \n",
    "    R2.append(r2)\n",
    "    R2D.append(r2D)\n",
    "    i=int(2*i)\n",
    "    \n",
    "save_object([R2,R2S,R2D,X],\"URRT_comparison\")"
   ]
  },
  {
   "cell_type": "code",
   "execution_count": 22,
   "id": "dcaf2645",
   "metadata": {},
   "outputs": [
    {
     "data": {
      "image/png": "[encoded data removed]",
      "text/plain": [
       "<Figure size 576x360 with 1 Axes>"
      ]
     },
     "metadata": {
      "needs_background": "light"
     },
     "output_type": "display_data"
    }
   ],
   "source": [
    "DATA=load_object(\"URRT_comparison.pickle\")\n",
    "R2,R2S,R2D,X=DATA[2],DATA[0],DATA[1],DATA[3]\n",
    "\n",
    "\n",
    "R2m=[mean(r) for r in R2]   #mean of the realizations\n",
    "R2Sm=[mean(r) for r in R2S]\n",
    "R2Dm=[mean(r) for r in R2D]\n",
    "\n",
    "\n",
    "fig=plt.figure(figsize=(8,5))\n",
    "\n",
    "positions=X\n",
    "\n",
    "w = 0.03\n",
    "width = lambda p, w: 10**(np.log10(p)+w/2.)-10**(np.log10(p)-w/2.)\n",
    "\n",
    "\n",
    "ax = plt.subplot(1, 1, 1)\n",
    "\n",
    "\n",
    "\n",
    "\n",
    "ax.boxplot(R2,positions=positions, widths=width(positions,w),sym='',medianprops=dict(color=\"black\"))\n",
    "plt.plot(X,R2m,label=\"descendant\")\n",
    "\n",
    "ax.boxplot(R2D,positions=positions, widths=width(positions,w),sym='',medianprops=dict(color=\"black\"))\n",
    "plt.plot(X,R2Dm,label=\"degree\")\n",
    "\n",
    "ax.boxplot(R2S,positions=positions, widths=width(positions,w),sym='',medianprops=dict(color=\"black\"))\n",
    "plt.plot(X,R2Sm,label=\"spectral\")\n",
    "\n",
    "ax.set_yscale('log')\n",
    "ax.set_xscale('log')\n",
    "\n",
    "plt.xticks(ticks=X,labels=X)\n",
    "plt.legend()\n",
    "plt.xlabel('tree size')\n",
    "plt.ylabel('error')\n",
    "\n",
    "\n",
    "plt.show()"
   ]
  },
  {
   "cell_type": "markdown",
   "id": "57c764c3",
   "metadata": {},
   "source": [
    "# Comparison of errors for PA "
   ]
  },
  {
   "cell_type": "code",
   "execution_count": 23,
   "id": "888f67e4",
   "metadata": {},
   "outputs": [],
   "source": [
    "alpha=1.2  # parameter of the error\n",
    "n0=124 #initial size of the graph\n",
    "n=1000 #max size of the graph\n",
    "n2=251 #max size of peeling\n",
    "step=20 #do not look at all sizes, but go with big steps\n",
    "k=20 #number of experience for each size"
   ]
  },
  {
   "cell_type": "code",
   "execution_count": 52,
   "id": "f628b194",
   "metadata": {},
   "outputs": [],
   "source": [
    "\n",
    "\n",
    "\n",
    "R2S=[]   # list of estimated error2 of spectral ordering\n",
    "R2=[]   # list of estimated error2 of descendant ordering\n",
    "R2D=[]    #list of error 2 of degree ordering\n",
    "R2IP=[]   # list of estimated error2 of Improved Peeling ordering\n",
    "X=[]     # list of sizes of graph that we tried\n",
    "X2=[]    #list of sizes we tried for the Peeling method (we stop earlier)\n",
    "\n",
    "i=n0\n",
    "while i <n: #exponential steps\n",
    "#for i in range(n0,n,step): #linear steps\n",
    "    \n",
    "    X.append(i)\n",
    "    if i<n2:\n",
    "        X2.append(i)\n",
    "\n",
    "    r2=[]\n",
    "    r2S=[]\n",
    "    r2D=[]\n",
    "    r2IP=[]\n",
    "    for j in range(k):     # we do k experiments at each size\n",
    "        M,ST=PA_subtree(i)   # we sample a PA\n",
    "        m,D=PADegree(i)\n",
    "        r2S.append(error2(SpectralOrdering(M),alpha))\n",
    "        r2D.append(error2(DegreeOrdering(D),alpha))\n",
    "        r2.append(error2(JordanOrdering(M),alpha))\n",
    "        if i < n2:\n",
    "            r2IP.append(error2(ImprovedPeeling(M),alpha))\n",
    "        \n",
    "        \n",
    "    R2S.append(r2S)    \n",
    "    R2.append(r2)\n",
    "    R2D.append(r2D)\n",
    "\n",
    "    if i < n2:\n",
    "        R2IP.append(r2IP)\n",
    "    i=int(2*i)\n",
    "    \n",
    "save_object([R2,R2S,R2D,R2IP,X,X2],\"PA_comparison\")"
   ]
  },
  {
   "cell_type": "code",
   "execution_count": 24,
   "id": "6d897b2a",
   "metadata": {},
   "outputs": [
    {
     "data": {
      "image/png": "[encoded data removed]",
      "text/plain": [
       "<Figure size 576x360 with 1 Axes>"
      ]
     },
     "metadata": {
      "needs_background": "light"
     },
     "output_type": "display_data"
    }
   ],
   "source": [
    "DATA=load_object(\"PA_comparison.pickle\")\n",
    "R2,R2S,R2D,R2IP,X,X2=DATA[0],DATA[1],DATA[2],DATA[3],DATA[4],DATA[5]\n",
    "\n",
    "R2m=[mean(r) for r in R2]   #mean of the realizations\n",
    "R2Sm=[mean(r) for r in R2S]\n",
    "R2Dm=[mean(r) for r in R2D]\n",
    "R2IPm=[mean(r) for r in R2IP]\n",
    "\n",
    "\n",
    "fig=plt.figure(figsize=(8,5))\n",
    "\n",
    "positions=X\n",
    "positions2=X2\n",
    "\n",
    "w = 0.03\n",
    "width = lambda p, w: 10**(np.log10(p)+w/2.)-10**(np.log10(p)-w/2.)\n",
    "\n",
    "\n",
    "ax = plt.subplot(1, 1, 1)\n",
    "\n",
    "\n",
    "\n",
    "ax.boxplot(R2,positions=positions, widths=width(positions,w),sym='',medianprops=dict(color=\"black\"))\n",
    "plt.plot(X,R2m,label=\"descendant\")\n",
    "\n",
    "ax.boxplot(R2D,positions=positions, widths=width(positions,w),sym='',medianprops=dict(color=\"black\"))\n",
    "plt.plot(X,R2Dm,label=\"degree\")\n",
    "\n",
    "ax.boxplot(R2S,positions=positions, widths=width(positions,w),sym='',medianprops=dict(color=\"black\"))\n",
    "plt.plot(X,R2Sm,label=\"spectral\")\n",
    "\n",
    "ax.boxplot(R2IP,positions=positions2, widths=width(positions2,w),sym='',medianprops=dict(color=\"black\"))\n",
    "plt.plot(X2,R2IPm,label=\"reverse DMC\")\n",
    "\n",
    "ax.set_yscale('log')\n",
    "ax.set_xscale('log')\n",
    "\n",
    "plt.xticks(ticks=X,labels=X)\n",
    "plt.legend()\n",
    "plt.xlabel('tree size')\n",
    "plt.ylabel('error')\n",
    "\n",
    "\n",
    "plt.show()"
   ]
  },
  {
   "cell_type": "markdown",
   "id": "2c1dfbb3",
   "metadata": {},
   "source": [
    "## Estimation of performances for degree ordering"
   ]
  },
  {
   "cell_type": "code",
   "execution_count": 18,
   "id": "5944fbf0",
   "metadata": {},
   "outputs": [],
   "source": [
    "from sklearn.linear_model import LinearRegression"
   ]
  },
  {
   "cell_type": "markdown",
   "id": "2092a1f4",
   "metadata": {},
   "source": [
    "PA case:"
   ]
  },
  {
   "cell_type": "code",
   "execution_count": 25,
   "id": "93fdb59e",
   "metadata": {},
   "outputs": [],
   "source": [
    "n0=1000 #initial size of the graph\n",
    "n=8001 #max size of the graph\n",
    "k=10 #number of experience for each size\n",
    "ALPHA=np.linspace(1,1.25,10) #liste des alpha à tester"
   ]
  },
  {
   "cell_type": "code",
   "execution_count": 33,
   "id": "2e3365d1",
   "metadata": {},
   "outputs": [],
   "source": [
    "SLOPE=[]\n",
    "R=[]\n",
    "R2D=[]\n",
    "X=[]\n",
    "\n",
    "i=n0\n",
    "\n",
    "while i<n:\n",
    "    r2D=np.zeros(10)\n",
    "    X.append(i)\n",
    "    for j in range(k):     # we do k experiments at each size\n",
    "        m,D=PADegree(i)    #sample a PA\n",
    "        SolvedOrdering=DegreeOrdering(D)\n",
    "        for j in range(10):\n",
    "            alpha=ALPHA[j]\n",
    "            r2D[j]+=error2(SolvedOrdering,alpha)\n",
    "    r2D=r2D/k\n",
    "    R2D.append(r2D)\n",
    "    i=int(2*i)\n",
    "    \n",
    "R2D=np.matrix(R2D)\n",
    "\n",
    "for j in range(10):\n",
    "    y = np.log(np.array(R2D[:,j]))\n",
    "    x = np.log(np.array(X)).reshape((-1, 1))\n",
    "\n",
    "    model = LinearRegression().fit(x, y)\n",
    "    r_sq = model.score(x, y)\n",
    "    slope=model.coef_[0]\n",
    "    R.append(r_sq)\n",
    "    SLOPE.append(slope)\n",
    "    \n",
    "save_object([SLOPE,R],\"PA_Degree_Slope\")"
   ]
  },
  {
   "cell_type": "code",
   "execution_count": 31,
   "id": "cbac1da5",
   "metadata": {},
   "outputs": [],
   "source": [
    "SLOPE=[]\n",
    "R=[]\n",
    "R2D=[]\n",
    "X=[]\n",
    "\n",
    "i=n0\n",
    "\n",
    "while i<n:\n",
    "    r2D=np.zeros(10)\n",
    "    X.append(i)\n",
    "    for j in range(k):     # we do k experiments at each size\n",
    "        m,ST=PA_subtree(i)    #sample a PA\n",
    "        SolvedOrdering=ordering(ST)\n",
    "        for j in range(10):\n",
    "            alpha=ALPHA[j]\n",
    "            r2D[j]+=error2(SolvedOrdering,alpha)\n",
    "    r2D=r2D/k\n",
    "    R2D.append(r2D)\n",
    "    i=int(2*i)\n",
    "    \n",
    "R2D=np.matrix(R2D)\n",
    "\n",
    "for j in range(10):\n",
    "    y = np.log(np.array(R2D[:,j]))\n",
    "    x = np.log(np.array(X)).reshape((-1, 1))\n",
    "\n",
    "    model = LinearRegression().fit(x, y)\n",
    "    r_sq = model.score(x, y)\n",
    "    slope=model.coef_[0]\n",
    "    R.append(r_sq)\n",
    "    SLOPE.append(slope)\n",
    "    \n",
    "save_object([SLOPE,R,X],\"PA_Jordan_Slope\")"
   ]
  },
  {
   "cell_type": "code",
   "execution_count": 26,
   "id": "a07608d8",
   "metadata": {},
   "outputs": [
    {
     "data": {
      "image/png": "[encoded data removed]",
      "text/plain": [
       "<Figure size 720x360 with 1 Axes>"
      ]
     },
     "metadata": {
      "needs_background": "light"
     },
     "output_type": "display_data"
    }
   ],
   "source": [
    "DATA=load_object(\"PA_Jordan_Slope.pickle\")\n",
    "SLOPEJ,RJ,X=DATA[0],DATA[1],DATA[2]\n",
    "DATA1=load_object(\"PA_Degree_Slope.pickle\")\n",
    "SLOPED,RD=DATA1[0],DATA1[1]\n",
    "\n",
    "\n",
    "fig=plt.figure(figsize=(10,5))\n",
    "\n",
    "plt.plot(ALPHA,2-ALPHA,label=\"Optimal polynomial rate of 2-alpha\",color='orange')\n",
    "plt.plot(ALPHA,SLOPEJ,label=\"estimated polynomial rate for the descendant ordering\",color='blue')\n",
    "plt.plot(ALPHA,SLOPED,label=\"estimated polynomial rate for the degree ordering\",color='red')\n",
    "plt.plot(ALPHA,SLOPEJ,'o',color='blue')\n",
    "plt.plot(ALPHA,SLOPED,'o',color='red')\n",
    "plt.xlabel('alpha')\n",
    "plt.ylabel('slope')\n",
    "plt.legend()\n",
    "plt.show()"
   ]
  },
  {
   "cell_type": "markdown",
   "id": "65ff5073",
   "metadata": {},
   "source": [
    "URRT case:"
   ]
  },
  {
   "cell_type": "code",
   "execution_count": 27,
   "id": "33974cde",
   "metadata": {},
   "outputs": [],
   "source": [
    "n0=500 #initial size of the graph\n",
    "n=4001 #max size of the graph\n",
    "k=10 #number of experience for each size\n",
    "ALPHA=np.linspace(1,1.9,10)"
   ]
  },
  {
   "cell_type": "code",
   "execution_count": 182,
   "id": "98ad377f",
   "metadata": {},
   "outputs": [],
   "source": [
    "SLOPE=[]\n",
    "R=[]\n",
    "R2D=[]\n",
    "X=[]\n",
    "\n",
    "i=n0\n",
    "\n",
    "while i<n:\n",
    "    r2D=np.zeros(10)\n",
    "    X.append(i)\n",
    "    for j in range(k):     # we do k experiments at each size\n",
    "        m,D=URRTDegree(i)    #sample a URRT\n",
    "        SolvedOrdering=DegreeOrdering(D)\n",
    "        for j in range(10):\n",
    "            alpha=ALPHA[j]\n",
    "            r2D[j]+=error2(SolvedOrdering,alpha)\n",
    "    r2D=r2D/k\n",
    "    R2D.append(r2D)\n",
    "    i=int(2*i)\n",
    "    \n",
    "R2D=np.matrix(R2D)\n",
    "\n",
    "for j in range(10):\n",
    "    y = np.log(np.array(R2D[:,j]))\n",
    "    x = np.log(np.array(X)).reshape((-1, 1))\n",
    "\n",
    "    model = LinearRegression().fit(x, y)\n",
    "    r_sq = model.score(x, y)\n",
    "    slope=model.coef_[0]\n",
    "    R.append(r_sq)\n",
    "    SLOPE.append(slope)\n",
    "    \n",
    "save_object([SLOPE,R],\"URRT_Degree_Slope\")"
   ]
  },
  {
   "cell_type": "code",
   "execution_count": null,
   "id": "52fa75fe",
   "metadata": {},
   "outputs": [],
   "source": [
    "SLOPE=[]\n",
    "R=[]\n",
    "R2D=[]\n",
    "X=[]\n",
    "\n",
    "i=n0\n",
    "\n",
    "while i<n:\n",
    "    r2D=np.zeros(10)\n",
    "    X.append(i)\n",
    "    for j in range(k):     # we do k experiments at each size\n",
    "        m,ST=URRT_subtree(i)    #sample a PA\n",
    "        SolvedOrdering=ordering(ST)\n",
    "        for j in range(10):\n",
    "            alpha=ALPHA[j]\n",
    "            r2D[j]+=error2(SolvedOrdering,alpha)\n",
    "    r2D=r2D/k\n",
    "    R2D.append(r2D)\n",
    "    i=int(2*i)\n",
    "    \n",
    "R2D=np.matrix(R2D)\n",
    "\n",
    "for j in range(10):\n",
    "    y = np.log(np.array(R2D[:,j]))\n",
    "    x = np.log(np.array(X)).reshape((-1, 1))\n",
    "\n",
    "    model = LinearRegression().fit(x, y)\n",
    "    r_sq = model.score(x, y)\n",
    "    slope=model.coef_[0]\n",
    "    R.append(r_sq)\n",
    "    SLOPE.append(slope)\n",
    "    \n",
    "save_object([SLOPE,R,X],\"URRT_Jordan_Slope\")"
   ]
  },
  {
   "cell_type": "code",
   "execution_count": 28,
   "id": "9db8e510",
   "metadata": {},
   "outputs": [
    {
     "name": "stdout",
     "output_type": "stream",
     "text": [
      "Error during unpickling object (Possibly unsupported): [Errno 2] No such file or directory: 'URRT_Jordan_Slope.pickle'\n"
     ]
    },
    {
     "ename": "TypeError",
     "evalue": "'NoneType' object is not subscriptable",
     "output_type": "error",
     "traceback": [
      "\u001b[1;31m---------------------------------------------------------------------------\u001b[0m",
      "\u001b[1;31mTypeError\u001b[0m                                 Traceback (most recent call last)",
      "\u001b[1;32m~\\AppData\\Local\\Temp/ipykernel_33768/3776051343.py\u001b[0m in \u001b[0;36m<module>\u001b[1;34m\u001b[0m\n\u001b[0;32m      1\u001b[0m \u001b[0mDATA\u001b[0m\u001b[1;33m=\u001b[0m\u001b[0mload_object\u001b[0m\u001b[1;33m(\u001b[0m\u001b[1;34m\"URRT_Jordan_Slope.pickle\"\u001b[0m\u001b[1;33m)\u001b[0m\u001b[1;33m\u001b[0m\u001b[1;33m\u001b[0m\u001b[0m\n\u001b[1;32m----> 2\u001b[1;33m \u001b[0mSLOPEJ\u001b[0m\u001b[1;33m,\u001b[0m\u001b[0mRJ\u001b[0m\u001b[1;33m,\u001b[0m\u001b[0mX\u001b[0m\u001b[1;33m=\u001b[0m\u001b[0mDATA\u001b[0m\u001b[1;33m[\u001b[0m\u001b[1;36m0\u001b[0m\u001b[1;33m]\u001b[0m\u001b[1;33m,\u001b[0m\u001b[0mDATA\u001b[0m\u001b[1;33m[\u001b[0m\u001b[1;36m1\u001b[0m\u001b[1;33m]\u001b[0m\u001b[1;33m,\u001b[0m\u001b[0mDATA\u001b[0m\u001b[1;33m[\u001b[0m\u001b[1;36m2\u001b[0m\u001b[1;33m]\u001b[0m\u001b[1;33m\u001b[0m\u001b[1;33m\u001b[0m\u001b[0m\n\u001b[0m\u001b[0;32m      3\u001b[0m \u001b[0mDATA1\u001b[0m\u001b[1;33m=\u001b[0m\u001b[0mload_object\u001b[0m\u001b[1;33m(\u001b[0m\u001b[1;34m\"URRT_Degree_Slope.pickle\"\u001b[0m\u001b[1;33m)\u001b[0m\u001b[1;33m\u001b[0m\u001b[1;33m\u001b[0m\u001b[0m\n\u001b[0;32m      4\u001b[0m \u001b[0mSLOPED\u001b[0m\u001b[1;33m,\u001b[0m\u001b[0mRD\u001b[0m\u001b[1;33m=\u001b[0m\u001b[0mDATA1\u001b[0m\u001b[1;33m[\u001b[0m\u001b[1;36m0\u001b[0m\u001b[1;33m]\u001b[0m\u001b[1;33m,\u001b[0m\u001b[0mDATA1\u001b[0m\u001b[1;33m[\u001b[0m\u001b[1;36m1\u001b[0m\u001b[1;33m]\u001b[0m\u001b[1;33m\u001b[0m\u001b[1;33m\u001b[0m\u001b[0m\n\u001b[0;32m      5\u001b[0m \u001b[1;33m\u001b[0m\u001b[0m\n",
      "\u001b[1;31mTypeError\u001b[0m: 'NoneType' object is not subscriptable"
     ]
    }
   ],
   "source": [
    "DATA=load_object(\"URRT_Jordan_Slope.pickle\")\n",
    "SLOPEJ,RJ,X=DATA[0],DATA[1],DATA[2]\n",
    "DATA1=load_object(\"URRT_Degree_Slope.pickle\")\n",
    "SLOPED,RD=DATA1[0],DATA1[1]\n",
    "\n",
    "\n",
    "fig=plt.figure(figsize=(10,5))\n",
    "\n",
    "plt.plot(ALPHA,2-ALPHA,label=\"Optimal polynomial rate of 2-alpha\",color='orange')\n",
    "plt.plot(ALPHA,SLOPEJ,label=\"Estimated polynomial rate for the descendant ordering\",color='blue')\n",
    "plt.plot(ALPHA,SLOPED,label=\"Estimated polynomial rate for the degree ordering\",color='red')\n",
    "plt.plot(ALPHA,SLOPEJ,'o',color='blue')\n",
    "plt.plot(ALPHA,SLOPED,'o',color='red')\n",
    "plt.xlabel('alpha')\n",
    "plt.ylabel('slope')\n",
    "plt.legend()\n",
    "plt.show()"
   ]
  }
 ],
 "metadata": {
  "kernelspec": {
   "display_name": "Python 3 (ipykernel)",
   "language": "python",
   "name": "python3"
  },
  "language_info": {
   "codemirror_mode": {
    "name": "ipython",
    "version": 3
   },
   "file_extension": ".py",
   "mimetype": "text/x-python",
   "name": "python",
   "nbconvert_exporter": "python",
   "pygments_lexer": "ipython3",
   "version": "3.8.12"
  }
 },
 "nbformat": 4,
 "nbformat_minor": 5
}
